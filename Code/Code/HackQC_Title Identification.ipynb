{
 "cells": [
  {
   "cell_type": "code",
   "execution_count": 95,
   "metadata": {
    "collapsed": true
   },
   "outputs": [],
   "source": [
    "from sklearn.feature_extraction.text import CountVectorizer\n",
    "from IPython.display import Image\n",
    "import matplotlib.pyplot as plt\n",
    "import numpy as np\n",
    "import pandas as pd\n",
    "import time\n",
    "%matplotlib inline\n",
    "from sklearn.linear_model import LogisticRegression"
   ]
  },
  {
   "cell_type": "code",
   "execution_count": 96,
   "metadata": {
    "collapsed": true
   },
   "outputs": [],
   "source": [
    "df = pd.read_csv('C:/Users/shrey/Downloads/HackQueenCIty/df_csv.csv',encoding = \"ISO-8859-1\")"
   ]
  },
  {
   "cell_type": "code",
   "execution_count": 102,
   "metadata": {
    "collapsed": false
   },
   "outputs": [],
   "source": [
    "F = open('C:/Users/shrey/Downloads/HackQueenCIty/words.txt','r',encoding = \"ISO-8859-1\") "
   ]
  },
  {
   "cell_type": "code",
   "execution_count": 98,
   "metadata": {
    "collapsed": false
   },
   "outputs": [
    {
     "data": {
      "text/plain": [
       "6310"
      ]
     },
     "execution_count": 98,
     "metadata": {},
     "output_type": "execute_result"
    }
   ],
   "source": [
    "len(df.title.unique())"
   ]
  },
  {
   "cell_type": "code",
   "execution_count": 99,
   "metadata": {
    "collapsed": false
   },
   "outputs": [],
   "source": [
    "# NMF is able to use tf-idf\n",
    "from sklearn.feature_extraction.text import TfidfVectorizer, CountVectorizer\n",
    "tfidf_vectorizer = TfidfVectorizer(max_df=0.95, min_df=2, max_features=1000, stop_words='english')\n",
    "tfidf = tfidf_vectorizer.fit_transform(F)\n",
    "tfidf_feature_names = tfidf_vectorizer.get_feature_names()"
   ]
  },
  {
   "cell_type": "code",
   "execution_count": 100,
   "metadata": {
    "collapsed": false,
    "scrolled": true
   },
   "outputs": [
    {
     "name": "stdout",
     "output_type": "stream",
     "text": [
      "['00', '000', '10', '100', '11', '12', '14', '15', '16', '18', '20', '200', '2016', '2017', '21', '24', '25', '250', '273r6f', '2nd', '30', '40', '45', '50', '60', '72', '77', 'able', 'absolutely', 'access', 'account', 'active', 'activities', 'actual', 'actually', 'add', 'address', 'advance', 'advantage', 'advice', 'affordable', 'afternoon', 'age', 'ago', 'ah', 'airport', 'allow', 'allowed', 'amazing', 'animal', 'ano', 'answer', 'anybody', 'anyways', 'apartment', 'apartments', 'apparently', 'appreciate', 'appreciated', 'area', 'areas', 'aren', 'art', 'article', 'artist', 'ask', 'asked', 'asking', 'ass', 'atlanta', 'attacks', 'available', 'avoid', 'aware', 'away', 'awesome', 'awhile', 'bad', 'bait', 'ballantyne', 'band', 'banned', 'bar', 'barbecue', 'bars', 'based', 'basic', 'basically', 'bbq', 'beat', 'beautiful', 'beer', 'beers', 'believe', 'benefiting', 'best', 'better', 'big', 'bike', 'birthday', 'bit', 'black', 'blow', 'blue', 'blvd', 'board', 'bonus', 'book', 'books', 'bought', 'box', 'boyfriend', 'break', 'breaks', 'breweries', 'brewery', 'brewing', 'bring', 'browse', 'budget', 'build', 'building', 'bunch', 'bus', 'business', 'busy', 'buy', 'buying', 'cable', 'called', 'calling', 'came', 'car', 'card', 'care', 'carolina', 'cars', 'case', 'cash', 'cat', 'cats', 'cause', 'center', 'challenging', 'chance', 'change', 'charge', 'charged', 'charity', 'charlotte', 'charlotteclassifieds', 'cheap', 'check', 'checked', 'checking', 'chicago', 'children', 'christmas', 'church', 'cities', 'city', 'civilized', 'class', 'classes', 'close', 'closed', 'closer', 'clt', 'club', 'clubs', 'coffee', 'college', 'com', 'come', 'comes', 'coming', 'comment', 'commenters', 'comments', 'community', 'commute', 'companies', 'company', 'complete', 'completely', 'complex', 'computer', 'concert', 'concord', 'consider', 'considering', 'construction', 'contact', 'content', 'cool', 'cost', 'couldn', 'country', 'county', 'couple', 'course', 'court', 'cousin', 'craigslist', 'crazy', 'credit', 'creek', 'cross', 'crowd', 'culture', 'curious', 'current', 'currently', 'cut', 'dark', 'date', 'day', 'days', 'deal', 'decent', 'decided', 'definitely', 'deleted', 'department', 'design', 'details', 'diatribe', 'did', 'didn', 'different', 'difficult', 'dinner', 'direction', 'distance', 'dmv', 'does', 'doesn', 'dog', 'dogs', 'doing', 'don', 'dont', 'door', 'downtown', 'dr', 'drink', 'drinking', 'drinks', 'drive', 'driver', 'drivers', 'driving', 'dump', 'early', 'east', 'easy', 'eat', 'edit', 'effect', 'email', 'emotionally', 'end', 'ended', 'enjoy', 'entire', 'especially', 'evening', 'event', 'events', 'example', 'excellent', 'excited', 'expect', 'expensive', 'experience', 'experienced', 'experiences', 'explain', 'explore', 'extra', 'extremely', 'face', 'facebook', 'fact', 'fair', 'fairly', 'familiar', 'family', 'fan', 'far', 'favorite', 'fee', 'feedback', 'feel', 'fellow', 'female', 'fiber', 'figure', 'figured', 'finally', 'financial', 'finding', 'fine', 'fit', 'fitness', 'fix', 'flight', 'flying', 'focus', 'folks', 'following', 'food', 'form', 'forum', 'forward', 'franchises', 'free', 'fresh', 'friday', 'friend', 'friendly', 'friends', 'frown', 'frustrations', 'fun', 'future', 'game', 'games', 'garage', 'gas', 'gave', 'general', 'gets', 'getting', 'girl', 'girlfriend', 'given', 'giving', 'goes', 'going', 'gone', 'good', 'google', 'got', 'gotten', 'gov', 'grab', 'great', 'greatly', 'green', 'ground', 'group', 'groups', 'growing', 'guess', 'guy', 'guys', 'gym', 'hair', 'half', 'hand', 'hands', 'handyman', 'hang', 'happen', 'happened', 'happening', 'happy', 'harassing', 'hard', 'hasn', 'hatchback', 'hate', 'haven', 'having', 'hb2', 'head', 'heading', 'health', 'hear', 'heard', 'hearing', 'hello', 'help', 'helpful', 'helping', 'hey', 'hi', 'high', 'hiking', 'hill', 'hit', 'home', 'homes', 'honestly', 'hope', 'hopefully', 'hoping', 'host', 'hot', 'hotel', 'hour', 'hours', 'house', 'houses', 'housing', 'html', 'http', 'https', 'hubcaps', 'huge', 'human', 'huntersville', 'husband', 'i_think_the_74_should_have_velcro_so_you_can', 'ice', 'id', 'idea', 'ideally', 'ideas', 'illness', 'im', 'imgur', 'important', 'include', 'including', 'indian', 'info', 'information', 'input', 'insert', 'inside', 'insight', 'inspection', 'instead', 'insurance', 'interaction', 'interested', 'interesting', 'internet', 'introduce', 'introduction', 'ipspgnemaxi', 'isn', 'issue', 'issues', 'january', 'job', 'jobs', 'join', 'jpg', 'july', 'june', 'just', 'kicked', 'kicking', 'kid', 'kids', 'kind', 'kindly', 'kitchen', 'knew', 'know', 'knowledge', 'known', 'knows', 'lake', 'land', 'lane', 'lanes', 'large', 'late', 'later', 'law', 'league', 'learn', 'lease', 'leave', 'leaving', 'left', 'legal', 'legion', 'let', 'lets', 'level', 'license', 'life', 'light', 'lights', 'like', 'likely', 'limited', 'line', 'lines', 'link', 'list', 'literally', 'little', 'live', 'lived', 'lives', 'living', 'll', 'local', 'located', 'location', 'locations', 'lol', 'long', 'longer', 'look', 'looked', 'looking', 'looks', 'lost', 'lot', 'lots', 'loud', 'love', 'low', 'luck', 'lunch', 'main', 'major', 'make', 'makes', 'making', 'male', 'mall', 'management', 'maps', 'march', 'market', 'married', 'matter', 'matthews', 'maybe', 'mean', 'means', 'mecklenburg', 'media', 'meet', 'meeting', 'meetup', 'members', 'men', 'menu', 'message', 'mid', 'middle', 'midwood', 'miles', 'mind', 'minute', 'minutes', 'mobile', 'mods', 'mom', 'monday', 'money', 'month', 'months', 'morning', 'motivation', 'mountain', 'moved', 'moving', 'mud', 'music', 'names', 'national', 'nbsp', 'nc', 'near', 'nearby', 'need', 'needed', 'needs', 'neighborhood', 'neighborhoods', 'new', 'news', 'nice', 'night', 'nights', 'nimity', 'noda', 'nom', 'non', 'norman', 'north', 'note', 'nothin', 'noticed', 'number', 'obviously', 'offer', 'offered', 'offers', 'office', 'ok', 'old', 'older', 'omb', 'ones', 'online', 'open', 'opinion', 'opinions', 'opportunity', 'option', 'options', 'order', 'org', 'outdoors', 'outside', 'owner', 'page', 'panthers', 'park', 'parking', 'parks', 'particular', 'particularly', 'parts', 'party', 'pass', 'past', 'pay', 'paying', 'pdf', 'people', 'person', 'personal', 'personally', 'phone', 'pick', 'picture', 'pictures', 'pineville', 'pinto', 'pizza', 'place', 'places', 'plain', 'plan', 'planning', 'plans', 'play', 'players', 'playing', 'plaza', 'plenty', 'plus', 'pm', 'point', 'police', 'pool', 'popular', 'position', 'positive', 'possible', 'possibly', 'post', 'posted', 'posting', 'posts', 'power', 'prefer', 'preferably', 'pretty', 'previous', 'price', 'prices', 'private', 'probably', 'problem', 'process', 'professional', 'program', 'project', 'projects', 'property', 'provide', 'public', 'purchase', 'putting', 'quality', 'queen', 'question', 'questions', 'quick', 'quickly', 'quite', 'race', 'rail', 'raising', 'raleigh', 'random', 'range', 'rant', 'rd', 'read', 'reading', 'real', 'really', 'reason', 'reasonable', 'reasons', 'received', 'recent', 'recently', 'recommend', 'recommendation', 'recommendations', 'red', 'reddiquette', 'reddit', 'redditors', 'regarding', 'registration', 'regular', 'related', 'relative', 'relatively', 'relevant', 'relocation', 'remember', 'removed', 'rent', 'rental', 'repair', 'report', 'rescue', 'research', 'rest', 'restaurant', 'restaurants', 'reviews', 'ride', 'riding', 'right', 'ripple', 'road', 'roads', 'rock', 'room', 'roommate', 'rule', 'rules', 'run', 'running', 'safe', 'said', 'sale', 'sales', 'saturday', 'sauce', 'saving', 'savings', 'saw', 'say', 'saying', 'says', 'sc', 'scene', 'schedule', 'school', 'schools', 'search', 'season', 'seats', 'second', 'seeing', 'seen', 'selection', 'self', 'sell', 'selling', 'send', 'seriously', 'service', 'services', 'session', 'set', 'share', 'shared', 'shit', 'shock', 'shoot', 'shop', 'shops', 'short', 'shot', 'shows', 'sign', 'similar', 'simple', 'single', 'sit', 'site', 'situation', 'size', 'slate', 'small', 'smile', 'snipe', 'soccer', 'social', 'sold', 'solid', 'somebody', 'somewhat', 'soon', 'sorry', 'sort', 'sound', 'sounds', 'south', 'space', 'special', 'specific', 'specifically', 'speed', 'spend', 'sports', 'spot', 'spots', 'spread', 'st', 'start', 'started', 'starting', 'state', 'station', 'stay', 'staying', 'steam', 'stop', 'store', 'stores', 'story', 'street', 'stressful', 'student', 'stuff', 'style', 'styles', 'sub', 'subreddit', 'suck', 'sugar', 'suggest', 'suggestions', 'summer', 'sunday', 'super', 'support', 'sure', 'surrounding', 'sweet', 'table', 'taken', 'taking', 'talk', 'talking', 'tap', 'tax', 'team', 'tell', 'test', 'thank', 'thanks', 'thing', 'things', 'think', 'thinking', 'thought', 'thoughts', 'thread', 'thursday', 'ticket', 'tickets', 'time', 'times', 'tips', 'tirade', 'title', 'today', 'told', 'tomorrow', 'ton', 'tonight', 'took', 'touching', 'town', 'traffic', 'trail', 'trails', 'train', 'training', 'transportation', 'travel', 'tried', 'trip', 'trivia', 'trouble', 'truck', 'try', 'trying', 'tryon', 'tuesday', 'turn', 'tv', 'twc', 'type', 'typical', 'uber', 'uncc', 'understand', 'unfortunately', 'unique', 'university', 'upcoming', 'upcomingevents', 'update', 'upside', 'uptown', 'use', 'used', 'users', 'using', 'usually', 've', 'vehicle', 'vent', 'venue', 'vibes', 'video', 'visit', 'visiting', 'volunteer', 'vote', 'voting', 'wait', 'waiting', 'walk', 'walking', 'wanna', 'want', 'wanted', 'wanting', 'wants', 'wasn', 'watch', 'watching', 'water', 'way', 'weather', 'website', 'wedding', 'wednesday', 'week', 'weekend', 'weekends', 'weekly', 'weeks', 'welcome', 'went', 'west', 'white', 'wife', 'wiki', 'willing', 'win', 'window', 'wine', 'women', 'won', 'wondering', 'wooden', 'word', 'work', 'worked', 'working', 'works', 'world', 'worth', 'wouldn', 'wrong', 'www', 'yard', 'year', 'years', 'yes', 'yesterday', 'young', 'youtube', 'ûªs', 'ûò']\n"
     ]
    }
   ],
   "source": [
    "print(tfidf_feature_names)"
   ]
  },
  {
   "cell_type": "code",
   "execution_count": 103,
   "metadata": {
    "collapsed": false
   },
   "outputs": [],
   "source": [
    "# LDA can only use raw term counts for LDA because it is a probabilistic graphical model\n",
    "tf_vectorizer = CountVectorizer(max_df=0.95, min_df=2, max_features=1000, stop_words='english')\n",
    "tf = tf_vectorizer.fit_transform(F)\n",
    "tf_feature_names = tf_vectorizer.get_feature_names()"
   ]
  },
  {
   "cell_type": "code",
   "execution_count": 104,
   "metadata": {
    "collapsed": false
   },
   "outputs": [
    {
     "name": "stdout",
     "output_type": "stream",
     "text": [
      "['00', '000', '10', '100', '11', '12', '14', '15', '16', '18', '20', '200', '2016', '2017', '21', '24', '25', '250', '273r6f', '2nd', '30', '40', '45', '50', '60', '72', '77', 'able', 'absolutely', 'access', 'account', 'active', 'activities', 'actual', 'actually', 'add', 'address', 'advance', 'advantage', 'advice', 'affordable', 'afternoon', 'age', 'ago', 'ah', 'airport', 'allow', 'allowed', 'amazing', 'animal', 'ano', 'answer', 'anybody', 'anyways', 'apartment', 'apartments', 'apparently', 'appreciate', 'appreciated', 'area', 'areas', 'aren', 'art', 'article', 'artist', 'ask', 'asked', 'asking', 'ass', 'atlanta', 'attacks', 'available', 'avoid', 'aware', 'away', 'awesome', 'awhile', 'bad', 'bait', 'ballantyne', 'band', 'banned', 'bar', 'barbecue', 'bars', 'based', 'basic', 'basically', 'bbq', 'beat', 'beautiful', 'beer', 'beers', 'believe', 'benefiting', 'best', 'better', 'big', 'bike', 'birthday', 'bit', 'black', 'blow', 'blue', 'blvd', 'board', 'bonus', 'book', 'books', 'bought', 'box', 'boyfriend', 'break', 'breaks', 'breweries', 'brewery', 'brewing', 'bring', 'browse', 'budget', 'build', 'building', 'bunch', 'bus', 'business', 'busy', 'buy', 'buying', 'cable', 'called', 'calling', 'came', 'car', 'card', 'care', 'carolina', 'cars', 'case', 'cash', 'cat', 'cats', 'cause', 'center', 'challenging', 'chance', 'change', 'charge', 'charged', 'charity', 'charlotte', 'charlotteclassifieds', 'cheap', 'check', 'checked', 'checking', 'chicago', 'children', 'christmas', 'church', 'cities', 'city', 'civilized', 'class', 'classes', 'close', 'closed', 'closer', 'clt', 'club', 'clubs', 'coffee', 'college', 'com', 'come', 'comes', 'coming', 'comment', 'commenters', 'comments', 'community', 'commute', 'companies', 'company', 'complete', 'completely', 'complex', 'computer', 'concert', 'concord', 'consider', 'considering', 'construction', 'contact', 'content', 'cool', 'cost', 'couldn', 'country', 'county', 'couple', 'course', 'court', 'cousin', 'craigslist', 'crazy', 'credit', 'creek', 'cross', 'crowd', 'culture', 'curious', 'current', 'currently', 'cut', 'dark', 'date', 'day', 'days', 'deal', 'decent', 'decided', 'definitely', 'deleted', 'department', 'design', 'details', 'diatribe', 'did', 'didn', 'different', 'difficult', 'dinner', 'direction', 'distance', 'dmv', 'does', 'doesn', 'dog', 'dogs', 'doing', 'don', 'dont', 'door', 'downtown', 'dr', 'drink', 'drinking', 'drinks', 'drive', 'driver', 'drivers', 'driving', 'dump', 'early', 'east', 'easy', 'eat', 'edit', 'effect', 'email', 'emotionally', 'end', 'ended', 'enjoy', 'entire', 'especially', 'evening', 'event', 'events', 'example', 'excellent', 'excited', 'expect', 'expensive', 'experience', 'experienced', 'experiences', 'explain', 'explore', 'extra', 'extremely', 'face', 'facebook', 'fact', 'fair', 'fairly', 'familiar', 'family', 'fan', 'far', 'favorite', 'fee', 'feedback', 'feel', 'fellow', 'female', 'fiber', 'figure', 'figured', 'finally', 'financial', 'finding', 'fine', 'fit', 'fitness', 'fix', 'flight', 'flying', 'focus', 'folks', 'following', 'food', 'form', 'forum', 'forward', 'franchises', 'free', 'fresh', 'friday', 'friend', 'friendly', 'friends', 'frown', 'frustrations', 'fun', 'future', 'game', 'games', 'garage', 'gas', 'gave', 'general', 'gets', 'getting', 'girl', 'girlfriend', 'given', 'giving', 'goes', 'going', 'gone', 'good', 'google', 'got', 'gotten', 'gov', 'grab', 'great', 'greatly', 'green', 'ground', 'group', 'groups', 'growing', 'guess', 'guy', 'guys', 'gym', 'hair', 'half', 'hand', 'hands', 'handyman', 'hang', 'happen', 'happened', 'happening', 'happy', 'harassing', 'hard', 'hasn', 'hatchback', 'hate', 'haven', 'having', 'hb2', 'head', 'heading', 'health', 'hear', 'heard', 'hearing', 'hello', 'help', 'helpful', 'helping', 'hey', 'hi', 'high', 'hiking', 'hill', 'hit', 'home', 'homes', 'honestly', 'hope', 'hopefully', 'hoping', 'host', 'hot', 'hotel', 'hour', 'hours', 'house', 'houses', 'housing', 'html', 'http', 'https', 'hubcaps', 'huge', 'human', 'huntersville', 'husband', 'i_think_the_74_should_have_velcro_so_you_can', 'ice', 'id', 'idea', 'ideally', 'ideas', 'illness', 'im', 'imgur', 'important', 'include', 'including', 'indian', 'info', 'information', 'input', 'insert', 'inside', 'insight', 'inspection', 'instead', 'insurance', 'interaction', 'interested', 'interesting', 'internet', 'introduce', 'introduction', 'ipspgnemaxi', 'isn', 'issue', 'issues', 'january', 'job', 'jobs', 'join', 'jpg', 'july', 'june', 'just', 'kicked', 'kicking', 'kid', 'kids', 'kind', 'kindly', 'kitchen', 'knew', 'know', 'knowledge', 'known', 'knows', 'lake', 'land', 'lane', 'lanes', 'large', 'late', 'later', 'law', 'league', 'learn', 'lease', 'leave', 'leaving', 'left', 'legal', 'legion', 'let', 'lets', 'level', 'license', 'life', 'light', 'lights', 'like', 'likely', 'limited', 'line', 'lines', 'link', 'list', 'literally', 'little', 'live', 'lived', 'lives', 'living', 'll', 'local', 'located', 'location', 'locations', 'lol', 'long', 'longer', 'look', 'looked', 'looking', 'looks', 'lost', 'lot', 'lots', 'loud', 'love', 'low', 'luck', 'lunch', 'main', 'major', 'make', 'makes', 'making', 'male', 'mall', 'management', 'maps', 'march', 'market', 'married', 'matter', 'matthews', 'maybe', 'mean', 'means', 'mecklenburg', 'media', 'meet', 'meeting', 'meetup', 'members', 'men', 'menu', 'message', 'mid', 'middle', 'midwood', 'miles', 'mind', 'minute', 'minutes', 'mobile', 'mods', 'mom', 'monday', 'money', 'month', 'months', 'morning', 'motivation', 'mountain', 'moved', 'moving', 'mud', 'music', 'names', 'national', 'nbsp', 'nc', 'near', 'nearby', 'need', 'needed', 'needs', 'neighborhood', 'neighborhoods', 'new', 'news', 'nice', 'night', 'nights', 'nimity', 'noda', 'nom', 'non', 'norman', 'north', 'note', 'nothin', 'noticed', 'number', 'obviously', 'offer', 'offered', 'offers', 'office', 'ok', 'old', 'older', 'omb', 'ones', 'online', 'open', 'opinion', 'opinions', 'opportunity', 'option', 'options', 'order', 'org', 'outdoors', 'outside', 'owner', 'page', 'panthers', 'park', 'parking', 'parks', 'particular', 'particularly', 'parts', 'party', 'pass', 'past', 'pay', 'paying', 'pdf', 'people', 'person', 'personal', 'personally', 'phone', 'pick', 'picture', 'pictures', 'pineville', 'pinto', 'pizza', 'place', 'places', 'plain', 'plan', 'planning', 'plans', 'play', 'players', 'playing', 'plaza', 'plenty', 'plus', 'pm', 'point', 'police', 'pool', 'popular', 'position', 'positive', 'possible', 'possibly', 'post', 'posted', 'posting', 'posts', 'power', 'prefer', 'preferably', 'pretty', 'previous', 'price', 'prices', 'private', 'probably', 'problem', 'process', 'professional', 'program', 'project', 'projects', 'property', 'provide', 'public', 'purchase', 'putting', 'quality', 'queen', 'question', 'questions', 'quick', 'quickly', 'quite', 'race', 'rail', 'raising', 'raleigh', 'random', 'range', 'rant', 'rd', 'read', 'reading', 'real', 'really', 'reason', 'reasonable', 'reasons', 'received', 'recent', 'recently', 'recommend', 'recommendation', 'recommendations', 'red', 'reddiquette', 'reddit', 'redditors', 'regarding', 'registration', 'regular', 'related', 'relative', 'relatively', 'relevant', 'relocation', 'remember', 'removed', 'rent', 'rental', 'repair', 'report', 'rescue', 'research', 'rest', 'restaurant', 'restaurants', 'reviews', 'ride', 'riding', 'right', 'ripple', 'road', 'roads', 'rock', 'room', 'roommate', 'rule', 'rules', 'run', 'running', 'safe', 'said', 'sale', 'sales', 'saturday', 'sauce', 'saving', 'savings', 'saw', 'say', 'saying', 'says', 'sc', 'scene', 'schedule', 'school', 'schools', 'search', 'season', 'seats', 'second', 'seeing', 'seen', 'selection', 'self', 'sell', 'selling', 'send', 'seriously', 'service', 'services', 'session', 'set', 'share', 'shared', 'shit', 'shock', 'shoot', 'shop', 'shops', 'short', 'shot', 'shows', 'sign', 'similar', 'simple', 'single', 'sit', 'site', 'situation', 'size', 'slate', 'small', 'smile', 'snipe', 'soccer', 'social', 'sold', 'solid', 'somebody', 'somewhat', 'soon', 'sorry', 'sort', 'sound', 'sounds', 'south', 'space', 'special', 'specific', 'specifically', 'speed', 'spend', 'sports', 'spot', 'spots', 'spread', 'st', 'start', 'started', 'starting', 'state', 'station', 'stay', 'staying', 'steam', 'stop', 'store', 'stores', 'story', 'street', 'stressful', 'student', 'stuff', 'style', 'styles', 'sub', 'subreddit', 'suck', 'sugar', 'suggest', 'suggestions', 'summer', 'sunday', 'super', 'support', 'sure', 'surrounding', 'sweet', 'table', 'taken', 'taking', 'talk', 'talking', 'tap', 'tax', 'team', 'tell', 'test', 'thank', 'thanks', 'thing', 'things', 'think', 'thinking', 'thought', 'thoughts', 'thread', 'thursday', 'ticket', 'tickets', 'time', 'times', 'tips', 'tirade', 'title', 'today', 'told', 'tomorrow', 'ton', 'tonight', 'took', 'touching', 'town', 'traffic', 'trail', 'trails', 'train', 'training', 'transportation', 'travel', 'tried', 'trip', 'trivia', 'trouble', 'truck', 'try', 'trying', 'tryon', 'tuesday', 'turn', 'tv', 'twc', 'type', 'typical', 'uber', 'uncc', 'understand', 'unfortunately', 'unique', 'university', 'upcoming', 'upcomingevents', 'update', 'upside', 'uptown', 'use', 'used', 'users', 'using', 'usually', 've', 'vehicle', 'vent', 'venue', 'vibes', 'video', 'visit', 'visiting', 'volunteer', 'vote', 'voting', 'wait', 'waiting', 'walk', 'walking', 'wanna', 'want', 'wanted', 'wanting', 'wants', 'wasn', 'watch', 'watching', 'water', 'way', 'weather', 'website', 'wedding', 'wednesday', 'week', 'weekend', 'weekends', 'weekly', 'weeks', 'welcome', 'went', 'west', 'white', 'wife', 'wiki', 'willing', 'win', 'window', 'wine', 'women', 'won', 'wondering', 'wooden', 'word', 'work', 'worked', 'working', 'works', 'world', 'worth', 'wouldn', 'wrong', 'www', 'yard', 'year', 'years', 'yes', 'yesterday', 'young', 'youtube', 'ûªs', 'ûò']\n"
     ]
    }
   ],
   "source": [
    "print(tf_feature_names)"
   ]
  },
  {
   "cell_type": "code",
   "execution_count": 105,
   "metadata": {
    "collapsed": false
   },
   "outputs": [],
   "source": [
    "from sklearn.decomposition import NMF, LatentDirichletAllocation\n",
    "\n",
    "no_topics = 50\n",
    "\n",
    "# Run NMF\n",
    "nmf = NMF(n_components=no_topics, random_state=1, alpha=.1, l1_ratio=.5, init='nndsvd').fit(tfidf)\n",
    "\n",
    "# Run LDA\n",
    "lda = LatentDirichletAllocation(n_topics=no_topics, max_iter=5, learning_method='online', learning_offset=50.,random_state=0).fit(tf)\n"
   ]
  },
  {
   "cell_type": "code",
   "execution_count": 106,
   "metadata": {
    "collapsed": false
   },
   "outputs": [
    {
     "name": "stdout",
     "output_type": "stream",
     "text": [
      "Topic 0:\n",
      "thanks information input anyways lot reading near update recommendations info\n",
      "Topic 1:\n",
      "charlotte city moving nc south north wondering year areas currently\n",
      "Topic 2:\n",
      "http com www org news html pdf local carolina gov\n",
      "Topic 3:\n",
      "let questions interested mods use bad feel forum isn think\n",
      "Topic 4:\n",
      "hey folks reddit weekend visiting ll moved friends hope beers\n",
      "Topic 5:\n",
      "don really think care mind friends matter house drive lot\n",
      "Topic 6:\n",
      "thread free removed steam challenging browse commenters kindly harassing blow\n",
      "Topic 7:\n",
      "questions folks note relocation living thread area ask answer happy\n",
      "Topic 8:\n",
      "open town bar spread band cousin benefiting mud charity run\n",
      "Topic 9:\n",
      "wiki https reddit com www events page check upcomingevents upcoming\n",
      "Topic 10:\n",
      "title says experienced far shock introduce culture eat ask away\n",
      "Topic 11:\n",
      "users reddiquette attacks banned basic personal deleted comments reddit https\n",
      "Topic 12:\n",
      "tickets dump job hubcaps pinto hatchback handyman 72 projects weekly\n",
      "Topic 13:\n",
      "hi folks reddit redditors phone hang project account process moved\n",
      "Topic 14:\n",
      "introduction rules needed ground 25 said company sorry general garage\n",
      "Topic 15:\n",
      "posts sub posting relevant stuff charlotteclassifieds cross consider main related\n",
      "Topic 16:\n",
      "kicked don rule civilized emotionally frustrations bait breaks ll personally\n",
      "Topic 17:\n",
      "edit got table ll outside google update details black went\n",
      "Topic 18:\n",
      "know anybody shot didn wanted ll hoping long place love\n",
      "Topic 19:\n",
      "barbecue beat relative kicking rescue group illness raising friend animal\n",
      "Topic 20:\n",
      "youtube watch https hair ipspgnemaxi touching face www com facebook\n",
      "Topic 21:\n",
      "looking recommendations forward buy weekend local play friends experience uptown\n",
      "Topic 22:\n",
      "hello fellow reddit friends community car family moved redditors companies\n",
      "Topic 23:\n",
      "thank stay doesn away nimity nom ano ah interaction human\n",
      "Topic 24:\n",
      "good smile win life thing recommendations morning recommend place local\n",
      "Topic 25:\n",
      "drivers suck comments don charlotte 250 cut insert i_think_the_74_should_have_velcro_so_you_can diatribe\n",
      "Topic 26:\n",
      "like looks things feel really sounds maybe experience nice start\n",
      "Topic 27:\n",
      "just moved wondering got doesn stay curious really little thing\n",
      "Topic 28:\n",
      "going tonight weekend tomorrow night thinking planning getting right doing\n",
      "Topic 29:\n",
      "ve got years heard seen getting year haven tried months\n",
      "Topic 30:\n",
      "help appreciated advice greatly appreciate really ideas able hoping fellow\n",
      "Topic 31:\n",
      "does experience anybody recommendations company drive car shop road recommend\n",
      "Topic 32:\n",
      "suggestions appreciated appreciate open thinking greatly tips local welcome hit\n",
      "Topic 33:\n",
      "want make sure free try play ll things dog share\n",
      "Topic 34:\n",
      "advance thanks moving happy weekend knowledge panthers welcome feedback advice\n",
      "Topic 35:\n",
      "new friends make meet year old relatively years used apartment\n",
      "Topic 36:\n",
      "simple love idea super frown nothin upside turn quite charlotte\n",
      "Topic 37:\n",
      "guys think recommend recommendations lot year safe getting experience im\n",
      "Topic 38:\n",
      "day weekend today things week early friday night saturday visiting\n",
      "Topic 39:\n",
      "place best buy park town city price uptown try pizza\n",
      "Topic 40:\n",
      "work uptown way week job currently hours home company moving\n",
      "Topic 41:\n",
      "food beer week great brewery hope brewing meetup beers menu\n",
      "Topic 42:\n",
      "imgur com http https jpg link google picture media pictures\n",
      "Topic 43:\n",
      "area south park near live end uptown wondering preferably north\n",
      "Topic 44:\n",
      "interested pm message send free details tickets 10 feel ll\n",
      "Topic 45:\n",
      "places wondering ideas recommend best suggest cheap explore local couple\n",
      "Topic 46:\n",
      "need car license willing house kitchen getting able make stuff\n",
      "Topic 47:\n",
      "people meet city friends make play fun think group lot\n",
      "Topic 48:\n",
      "post ll reddit update fair comments sorry forum design game\n",
      "Topic 49:\n",
      "time did long great home year hard years think having\n",
      "Topic 0:\n",
      "stores drink store luck level table checked grab sold somewhat\n",
      "Topic 1:\n",
      "used google half human spot mid locations access maps worked\n",
      "Topic 2:\n",
      "sports league social pick best stay learn free likely picture\n",
      "Topic 3:\n",
      "best hard cheap coffee shops local just place restaurant hasn\n",
      "Topic 4:\n",
      "appreciate birthday friend major rules legion drivers speed wanted opinions\n",
      "Topic 5:\n",
      "car away home information won guy phone deal org looks\n",
      "Topic 6:\n",
      "http com food edit beer www brewery hope meetup beers\n",
      "Topic 7:\n",
      "interested pm tonight ticket send number wants address message details\n",
      "Topic 8:\n",
      "weekend near charlotte 10 called road areas saturday sunday price\n",
      "Topic 9:\n",
      "charlotte comments drivers don suck great cut like super example\n",
      "Topic 10:\n",
      "advance 50 40 18 lunch 25 subreddit crowd panthers chicago\n",
      "Topic 11:\n",
      "neighborhood breweries forward black project door lots tryon video husband\n",
      "Topic 12:\n",
      "area charlotte house think nc state moved school just location\n",
      "Topic 13:\n",
      "outside hit friday times running fine cars usually remember police\n",
      "Topic 14:\n",
      "moving dr soon running sound details plus happen close carolina\n",
      "Topic 15:\n",
      "know does night online recommend drive shop turn public place\n",
      "Topic 16:\n",
      "https com www wiki reddit charlotte events check hair page\n",
      "Topic 17:\n",
      "let know working friend group money life need expensive help\n",
      "Topic 18:\n",
      "looking place little wondering maybe area like start buy went\n",
      "Topic 19:\n",
      "moving today currently dog morning soon community month like update\n",
      "Topic 20:\n",
      "thing vote focus meeting world recent housing excellent legal management\n",
      "Topic 21:\n",
      "day getting right hours close days like thinking early hour\n",
      "Topic 22:\n",
      "need job tickets use free offer looking chance minute trying\n",
      "Topic 23:\n",
      "north carolina non link scene allow gov members expect lanes\n",
      "Topic 24:\n",
      "open really town like bar coming idea favorite run cause\n",
      "Topic 25:\n",
      "work thank big person feel like got tomorrow water set\n",
      "Topic 26:\n",
      "twc music outdoors stressful green win heard summer program forum\n",
      "Topic 27:\n",
      "mods positive schools tirade ton mobile locations style works use\n",
      "Topic 28:\n",
      "thread having posts personal stuff comments deleted related sub tirade\n",
      "Topic 29:\n",
      "places long seen charlotte simple quite past plan line high\n",
      "Topic 30:\n",
      "wanna country raleigh female dr cross blvd posting south saving\n",
      "Topic 31:\n",
      "time new make week sure just appreciated info ideas want\n",
      "Topic 32:\n",
      "just post uptown stay ve game parking saw making charlotte\n",
      "Topic 33:\n",
      "thanks living questions folks area note thread relocation single session\n",
      "Topic 34:\n",
      "smile stressful vibes upside ripple franchises frown nothin night event\n",
      "Topic 35:\n",
      "pretty looking recommendations area willing live options need just box\n",
      "Topic 36:\n",
      "local help suggestions trying company better anybody experience win point\n",
      "Topic 37:\n",
      "city love doesn doing bit look pay small like kind\n",
      "Topic 38:\n",
      "people hey guys charlotte south meet end friends looking just\n",
      "Topic 39:\n",
      "good ve going just things live charlotte like far know\n",
      "Topic 40:\n",
      "travel won vehicle projects service christmas couldn stuff instead bike\n",
      "Topic 41:\n",
      "don want ll lot park kicked personally bring comment shared\n",
      "Topic 42:\n",
      "saving interaction ano nom ah nimity slate took bait company\n",
      "Topic 43:\n",
      "said didn probably needs include kids bought watch airport problem\n",
      "Topic 44:\n",
      "change home possibly advice crowd meeting apartment regarding afternoon means\n",
      "Topic 45:\n",
      "nbsp report store fitness soccer players trail 25 video apartments\n",
      "Topic 46:\n",
      "mean thanks advance entire mom fan rest lived box red\n",
      "Topic 47:\n",
      "year charlotte way old hi come years looking good event\n",
      "Topic 48:\n",
      "say play nice did 30 service cool ago apartment months\n",
      "Topic 49:\n",
      "nbsp green seriously spot support beautiful picture 10 pay tuesday\n"
     ]
    }
   ],
   "source": [
    "def display_topics(model, feature_names, no_top_words):\n",
    "    for topic_idx, topic in enumerate(model.components_):\n",
    "        print(\"Topic %d:\" % (topic_idx)) \n",
    "        print (\" \".join([feature_names[i]\n",
    "                        for i in topic.argsort()[:-no_top_words - 1:-1]]))\n",
    "no_top_words = 10\n",
    "display_topics(nmf, tfidf_feature_names, no_top_words)\n",
    "display_topics(lda, tf_feature_names, no_top_words)"
   ]
  }
 ],
 "metadata": {
  "kernelspec": {
   "display_name": "Python 3",
   "language": "python",
   "name": "python3"
  },
  "language_info": {
   "codemirror_mode": {
    "name": "ipython",
    "version": 3
   },
   "file_extension": ".py",
   "mimetype": "text/x-python",
   "name": "python",
   "nbconvert_exporter": "python",
   "pygments_lexer": "ipython3",
   "version": "3.6.0"
  }
 },
 "nbformat": 4,
 "nbformat_minor": 2
}
