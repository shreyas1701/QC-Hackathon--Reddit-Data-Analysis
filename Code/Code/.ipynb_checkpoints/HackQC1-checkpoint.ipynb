{
 "cells": [
  {
   "cell_type": "code",
   "execution_count": 42,
   "metadata": {
    "collapsed": true
   },
   "outputs": [],
   "source": [
    "import numpy as np\n",
    "import matplotlib.pyplot as plt\n",
    "import pandas as pd\n",
    "%matplotlib inline\n",
    "from datetime import datetime\n",
    "from scipy import stats "
   ]
  },
  {
   "cell_type": "code",
   "execution_count": 19,
   "metadata": {},
   "outputs": [],
   "source": [
    "df = pd.read_csv('C:/Users/shrey/Downloads/HackQueenCIty/df_csv.csv',encoding = \"ISO-8859-1\")"
   ]
  },
  {
   "cell_type": "code",
   "execution_count": 59,
   "metadata": {},
   "outputs": [
    {
     "data": {
      "text/plain": [
       "111"
      ]
     },
     "execution_count": 59,
     "metadata": {},
     "output_type": "execute_result"
    }
   ],
   "source": [
    "flair_10=['Discussion','News','WEEKLY','Photography','Meetup','HB2','Politics','Events/Happenings','Lost & Found','TWC/RR Discussion']"
   ]
  },
  {
   "cell_type": "code",
   "execution_count": 5,
   "metadata": {},
   "outputs": [
    {
     "data": {
      "text/plain": [
       "<matplotlib.figure.Figure at 0x211d1c1da58>"
      ]
     },
     "metadata": {},
     "output_type": "display_data"
    }
   ],
   "source": [
    "# Create plot template with two graph boxes\n",
    "fig = plt.figure(figsize = (720/120, 420/120), dpi = 120)"
   ]
  },
  {
   "cell_type": "code",
   "execution_count": 33,
   "metadata": {},
   "outputs": [],
   "source": [
    "df['TIME']=pd.to_datetime(df['TIME'])"
   ]
  },
  {
   "cell_type": "code",
   "execution_count": 34,
   "metadata": {
    "scrolled": true
   },
   "outputs": [
    {
     "data": {
      "text/html": [
       "<div>\n",
       "<table border=\"1\" class=\"dataframe\">\n",
       "  <thead>\n",
       "    <tr style=\"text-align: right;\">\n",
       "      <th></th>\n",
       "      <th>Unnamed: 0</th>\n",
       "      <th>id</th>\n",
       "      <th>title</th>\n",
       "      <th>count_title</th>\n",
       "      <th>selftext</th>\n",
       "      <th>author</th>\n",
       "      <th>count_author</th>\n",
       "      <th>num_comments</th>\n",
       "      <th>score</th>\n",
       "      <th>TIME</th>\n",
       "      <th>POLARITY</th>\n",
       "      <th>domain</th>\n",
       "      <th>count_domain</th>\n",
       "      <th>link_flair_text</th>\n",
       "      <th>count_link_flair</th>\n",
       "      <th>DayOfWeek</th>\n",
       "    </tr>\n",
       "  </thead>\n",
       "  <tbody>\n",
       "    <tr>\n",
       "      <th>0</th>\n",
       "      <td>0</td>\n",
       "      <td>43lk9m</td>\n",
       "      <td>John Isner brings charity tennis event to Char...</td>\n",
       "      <td>1</td>\n",
       "      <td>NaN</td>\n",
       "      <td>tothelimit2019</td>\n",
       "      <td>1</td>\n",
       "      <td>0</td>\n",
       "      <td>5</td>\n",
       "      <td>2016-02-01 07:26:00</td>\n",
       "      <td>0.000000</td>\n",
       "      <td>charlotteobserver.com</td>\n",
       "      <td>273</td>\n",
       "      <td>News</td>\n",
       "      <td>489.0</td>\n",
       "      <td>Mon</td>\n",
       "    </tr>\n",
       "    <tr>\n",
       "      <th>1</th>\n",
       "      <td>1</td>\n",
       "      <td>43lbpu</td>\n",
       "      <td>Bernie Sanders' NC HQ is now in the same build...</td>\n",
       "      <td>1</td>\n",
       "      <td>They just moved in from a temporary location. ...</td>\n",
       "      <td>JangusKhan</td>\n",
       "      <td>8</td>\n",
       "      <td>41</td>\n",
       "      <td>84</td>\n",
       "      <td>2016-02-01 06:32:00</td>\n",
       "      <td>0.316667</td>\n",
       "      <td>self.Charlotte</td>\n",
       "      <td>5007</td>\n",
       "      <td>Discussion</td>\n",
       "      <td>3839.0</td>\n",
       "      <td>Mon</td>\n",
       "    </tr>\n",
       "    <tr>\n",
       "      <th>2</th>\n",
       "      <td>2</td>\n",
       "      <td>43l7u1</td>\n",
       "      <td>Brewery Meetup - Wooden Robot Brewing - Tuesda...</td>\n",
       "      <td>1</td>\n",
       "      <td>Hello all! Big news this week! We are adding [...</td>\n",
       "      <td>Baelzabub</td>\n",
       "      <td>93</td>\n",
       "      <td>4</td>\n",
       "      <td>14</td>\n",
       "      <td>2016-02-01 06:09:00</td>\n",
       "      <td>0.078125</td>\n",
       "      <td>self.Charlotte</td>\n",
       "      <td>5007</td>\n",
       "      <td>Meetup</td>\n",
       "      <td>137.0</td>\n",
       "      <td>Mon</td>\n",
       "    </tr>\n",
       "    <tr>\n",
       "      <th>3</th>\n",
       "      <td>3</td>\n",
       "      <td>43kvqm</td>\n",
       "      <td>ISP recommendation for University City</td>\n",
       "      <td>1</td>\n",
       "      <td>What is the best deal for internet connection ...</td>\n",
       "      <td>cltsu</td>\n",
       "      <td>2</td>\n",
       "      <td>4</td>\n",
       "      <td>0</td>\n",
       "      <td>2016-02-01 04:56:00</td>\n",
       "      <td>1.000000</td>\n",
       "      <td>self.Charlotte</td>\n",
       "      <td>5007</td>\n",
       "      <td>Discussion</td>\n",
       "      <td>3839.0</td>\n",
       "      <td>Mon</td>\n",
       "    </tr>\n",
       "    <tr>\n",
       "      <th>4</th>\n",
       "      <td>4</td>\n",
       "      <td>43jj16</td>\n",
       "      <td>MUST SEE show at Children's Theatre!</td>\n",
       "      <td>1</td>\n",
       "      <td>Just saw \"The Miraculous Journey of Edward Tul...</td>\n",
       "      <td>wadkins75</td>\n",
       "      <td>1</td>\n",
       "      <td>0</td>\n",
       "      <td>8</td>\n",
       "      <td>2016-01-31 23:51:00</td>\n",
       "      <td>0.298214</td>\n",
       "      <td>self.Charlotte</td>\n",
       "      <td>5007</td>\n",
       "      <td>Discussion</td>\n",
       "      <td>3839.0</td>\n",
       "      <td>Sun</td>\n",
       "    </tr>\n",
       "  </tbody>\n",
       "</table>\n",
       "</div>"
      ],
      "text/plain": [
       "   Unnamed: 0      id                                              title  \\\n",
       "0           0  43lk9m  John Isner brings charity tennis event to Char...   \n",
       "1           1  43lbpu  Bernie Sanders' NC HQ is now in the same build...   \n",
       "2           2  43l7u1  Brewery Meetup - Wooden Robot Brewing - Tuesda...   \n",
       "3           3  43kvqm             ISP recommendation for University City   \n",
       "4           4  43jj16               MUST SEE show at Children's Theatre!   \n",
       "\n",
       "  count_title                                           selftext  \\\n",
       "0           1                                                NaN   \n",
       "1           1  They just moved in from a temporary location. ...   \n",
       "2           1  Hello all! Big news this week! We are adding [...   \n",
       "3           1  What is the best deal for internet connection ...   \n",
       "4           1  Just saw \"The Miraculous Journey of Edward Tul...   \n",
       "\n",
       "           author  count_author  num_comments  score                TIME  \\\n",
       "0  tothelimit2019             1             0      5 2016-02-01 07:26:00   \n",
       "1      JangusKhan             8            41     84 2016-02-01 06:32:00   \n",
       "2       Baelzabub            93             4     14 2016-02-01 06:09:00   \n",
       "3           cltsu             2             4      0 2016-02-01 04:56:00   \n",
       "4       wadkins75             1             0      8 2016-01-31 23:51:00   \n",
       "\n",
       "   POLARITY                 domain  count_domain link_flair_text  \\\n",
       "0  0.000000  charlotteobserver.com           273            News   \n",
       "1  0.316667         self.Charlotte          5007      Discussion   \n",
       "2  0.078125         self.Charlotte          5007          Meetup   \n",
       "3  1.000000         self.Charlotte          5007      Discussion   \n",
       "4  0.298214         self.Charlotte          5007      Discussion   \n",
       "\n",
       "   count_link_flair DayOfWeek  \n",
       "0             489.0       Mon  \n",
       "1            3839.0       Mon  \n",
       "2             137.0       Mon  \n",
       "3            3839.0       Mon  \n",
       "4            3839.0       Sun  "
      ]
     },
     "execution_count": 34,
     "metadata": {},
     "output_type": "execute_result"
    }
   ],
   "source": [
    "df['DayOfWeek'] = df['TIME'].dt.dayofweek\n",
    "days = {0: 'Mon', 1: 'Tues', 2: 'Weds', 3: 'Thurs', 4: 'Fri',\n",
    "        5: 'Sat', 6: 'Sun'}\n",
    "df['DayOfWeek'] = df['DayOfWeek'].apply(lambda x: days[x])\n",
    "\n",
    "df[:5]"
   ]
  },
  {
   "cell_type": "code",
   "execution_count": 35,
   "metadata": {},
   "outputs": [
    {
     "data": {
      "text/plain": [
       "<matplotlib.figure.Figure at 0x211d08d5400>"
      ]
     },
     "metadata": {},
     "output_type": "display_data"
    }
   ],
   "source": [
    "# Create plot template with two graph boxes\n",
    "fig = plt.figure(figsize = (720/120, 420/120), dpi = 120)"
   ]
  },
  {
   "cell_type": "code",
   "execution_count": 37,
   "metadata": {},
   "outputs": [
    {
     "data": {
      "text/html": [
       "<div>\n",
       "<table border=\"1\" class=\"dataframe\">\n",
       "  <thead>\n",
       "    <tr style=\"text-align: right;\">\n",
       "      <th></th>\n",
       "      <th>score</th>\n",
       "      <th>num_comments</th>\n",
       "    </tr>\n",
       "    <tr>\n",
       "      <th>DayOfWeek</th>\n",
       "      <th></th>\n",
       "      <th></th>\n",
       "    </tr>\n",
       "  </thead>\n",
       "  <tbody>\n",
       "    <tr>\n",
       "      <th>Mon</th>\n",
       "      <td>7</td>\n",
       "      <td>10</td>\n",
       "    </tr>\n",
       "    <tr>\n",
       "      <th>Tues</th>\n",
       "      <td>5</td>\n",
       "      <td>10</td>\n",
       "    </tr>\n",
       "    <tr>\n",
       "      <th>Weds</th>\n",
       "      <td>5</td>\n",
       "      <td>10</td>\n",
       "    </tr>\n",
       "    <tr>\n",
       "      <th>Thurs</th>\n",
       "      <td>6</td>\n",
       "      <td>9</td>\n",
       "    </tr>\n",
       "    <tr>\n",
       "      <th>Fri</th>\n",
       "      <td>5</td>\n",
       "      <td>10</td>\n",
       "    </tr>\n",
       "    <tr>\n",
       "      <th>Sat</th>\n",
       "      <td>6</td>\n",
       "      <td>7</td>\n",
       "    </tr>\n",
       "    <tr>\n",
       "      <th>Sun</th>\n",
       "      <td>5</td>\n",
       "      <td>8</td>\n",
       "    </tr>\n",
       "  </tbody>\n",
       "</table>\n",
       "</div>"
      ],
      "text/plain": [
       "           score  num_comments\n",
       "DayOfWeek                     \n",
       "Mon            7            10\n",
       "Tues           5            10\n",
       "Weds           5            10\n",
       "Thurs          6             9\n",
       "Fri            5            10\n",
       "Sat            6             7\n",
       "Sun            5             8"
      ]
     },
     "execution_count": 37,
     "metadata": {},
     "output_type": "execute_result"
    }
   ],
   "source": [
    "score_com_day = df.groupby('DayOfWeek')[\n",
    "    ['score', 'num_comments']].median()\n",
    "score_com_day = score_com_day.reindex(['Mon', 'Tues', 'Weds', 'Thurs', \n",
    "                                       'Fri', 'Sat', 'Sun'])\n",
    "score_com_day"
   ]
  },
  {
   "cell_type": "code",
   "execution_count": 39,
   "metadata": {},
   "outputs": [
    {
     "data": {
      "image/png": "[encoded data removed]",
      "text/plain": [
       "<matplotlib.figure.Figure at 0x211cfbafe48>"
      ]
     },
     "metadata": {},
     "output_type": "display_data"
    }
   ],
   "source": [
    "# Create subplot 1 for median scores\n",
    "ax1 = fig.add_subplot(1, 2, 1)\n",
    "score_com_day['score'].plot(linestyle='solid', color='#FF3721')\n",
    "ax1.set_title('score')\n",
    "plt.xlabel('Day of Week', fontsize=10)\n",
    "plt.tick_params(axis='both', which='major', labelsize=8)"
   ]
  },
  {
   "cell_type": "code",
   "execution_count": 41,
   "metadata": {
    "scrolled": true
   },
   "outputs": [
    {
     "data": {
      "image/png": "[encoded data removed]",
      "text/plain": [
       "<matplotlib.figure.Figure at 0x211d37f52b0>"
      ]
     },
     "metadata": {},
     "output_type": "display_data"
    }
   ],
   "source": [
    "# Create subplot 2 for median comments\n",
    "ax2 = fig.add_subplot(1, 2, 2)\n",
    "score_com_day['num_comments'].plot(linestyle='dashed', color='#4271AE')\n",
    "ax2.set_title('num_comments')\n",
    "plt.xlabel('Day of Week', fontsize=10)\n",
    "#plt.tick_params(axis='both', which='major', labelsize=8)"
   ]
  },
  {
   "cell_type": "code",
   "execution_count": 71,
   "metadata": {},
   "outputs": [
    {
     "name": "stdout",
     "output_type": "stream",
     "text": [
      "                                         POLARITY\n",
      "link_flair_text                                  \n",
      "4th Ward Park                            0.000000\n",
      "Actually 4/30                            0.212500\n",
      "Advertisement                            0.000000\n",
      "Advertisement?                           0.000000\n",
      "At least we still have 'The Milestone'   0.000000\n",
      "Betteridge's Law\\r                       0.000000\n",
      "Bojangles                                0.000000\n",
      "Charity                                  0.153125\n",
      "Charity/Assistance                       0.093803\n",
      "Charity/Assistance - Thank you          -0.064773\n",
      "Charity/Assistance/Adoption              0.000000\n",
      "Charity/Assistance/Housing               0.183631\n",
      "Charity/Assistance/Job                   0.245238\n",
      "Community Service                        0.249306\n",
      "Coupon/Discount                          0.200049\n",
      "Coupon/Discount - 10/23/16               0.500000\n",
      "Craft Beer                               0.000000\n",
      "DO NOT POST PERSONAL INFORMATION         0.000000\n",
      "Discussion                               0.133333\n",
      "Discussion Already Posted                0.000000\n",
      "Discussion/Food                          0.000000\n",
      "Disturbing Content                       0.000000\n",
      "Encouragement                            0.321465\n",
      "Ending Soon!!                            0.422354\n",
      "Events Inside                            0.141458\n",
      "Events/Happenings                        0.000000\n",
      "FEEDBACK                                -0.100000\n",
      "Fixed again                              0.136364\n",
      "Geography                                0.000000\n",
      "Go Concord!                              0.000000\n",
      "...                                           ...\n",
      "Photography/Backstory                    0.000000\n",
      "Photography/Video                        0.000000\n",
      "Picture of disappointing food            0.000000\n",
      "Pizzas, not mod position                 0.042695\n",
      "Podcast                                  0.000000\n",
      "Politics                                 0.000000\n",
      "Politics & Sports                        0.000000\n",
      "Politics (Potentially misleading title)  0.000000\n",
      "Politics /HB2                            0.000000\n",
      "Politics/Climate Change                  0.000000\n",
      "Politics/Craft Beer                      0.000000\n",
      "Politics/HB2                             0.000000\n",
      "Politics/Voting                          0.219892\n",
      "Possible Paywall                         0.000000\n",
      "Protest Related                          0.000000\n",
      "Read the Stickied Comment!               0.000000\n",
      "Recommendation                          -0.298333\n",
      "Remain Civil                             0.000000\n",
      "Roommates! - Mod approved                0.110124\n",
      "See comments for the Senator's response  0.023832\n",
      "Shopping                                 0.200000\n",
      "Sports                                   0.000000\n",
      "Survey                                   0.169444\n",
      "TWC/RR Discussion                        0.022222\n",
      "VOTE NOW!                                0.199420\n",
      "Vote Until Monday                        0.000000\n",
      "WEEKLY                                   0.205682\n",
      "Watch video before commenting            0.000000\n",
      "We would love to be your friend!         0.000000\n",
      "Weekly                                   0.158333\n",
      "\n",
      "[110 rows x 1 columns]\n"
     ]
    },
    {
     "data": {
      "image/png": "[encoded data removed]",
      "text/plain": [
       "<matplotlib.figure.Figure at 0x211d1bea5f8>"
      ]
     },
     "metadata": {},
     "output_type": "display_data"
    }
   ],
   "source": [
    "#polarity vs flair \n",
    "polarity_flair = df.groupby('link_flair_text')[['POLARITY']].median()\n",
    "print (polarity_flair)\n",
    "fig1 = plt.figure(figsize = (720/120, 420/120), dpi = 120)\n",
    "ax3 = fig1.add_subplot(1, 1, 1)\n",
    "polarity_flair['POLARITY'].plot(linestyle='dashed', color='#4271AE')\n",
    "ax3.set_title('POLARITY')\n",
    "plt.xlabel('FLAIR', fontsize=10)\n",
    "plt.tick_params(axis='both', which='major', labelsize=8)\n"
   ]
  },
  {
   "cell_type": "code",
   "execution_count": 47,
   "metadata": {},
   "outputs": [
    {
     "name": "stdout",
     "output_type": "stream",
     "text": [
      "The test statistic is 15.187, and the significance level is 0.019.\n"
     ]
    }
   ],
   "source": [
    "#Kruskal_Wallis Test\n",
    "d = {}\n",
    "for key, value in df.groupby('DayOfWeek'):\n",
    "        d['%s' % key] = value['score']\n",
    "\n",
    "H, p_val = stats.mstats.kruskalwallis(d['Mon'], d['Tues'], d['Weds'], d['Thurs'], \n",
    "                                       d['Fri'], d['Sat'], d['Sun'])\n",
    "print(\"The test statistic is %1.3f, and the significance level is %1.3f.\" % (H, p_val))"
   ]
  },
  {
   "cell_type": "markdown",
   "metadata": {},
   "source": [
    "We can see that the day of the week does significantly affect the score a post receives, with the Kruskall-Wallis test having a p-value of 0.019."
   ]
  },
  {
   "cell_type": "code",
   "execution_count": 54,
   "metadata": {
    "scrolled": true
   },
   "outputs": [
    {
     "name": "stdout",
     "output_type": "stream",
     "text": [
      "The test statistic is 115.684, and the significance level is 1.31e-22.\n"
     ]
    }
   ],
   "source": [
    "d = {}\n",
    "for key, value in df.groupby('DayOfWeek'):\n",
    "        d['%s' % key] = value['num_comments']\n",
    "\n",
    "H, p_val = stats.mstats.kruskalwallis(d['Mon'], d['Tues'], d['Weds'], d['Thurs'], \n",
    "                                       d['Fri'], d['Sat'], d['Sun'])\n",
    "print(\"The test statistic is %1.3f, and the significance level is %1.3g.\" % (H, p_val))"
   ]
  },
  {
   "cell_type": "markdown",
   "metadata": {},
   "source": [
    "The day of the week has a very significant affect the number of comments a post attracts."
   ]
  }
 ],
 "metadata": {
  "kernelspec": {
   "display_name": "Python 3",
   "language": "python",
   "name": "python3"
  },
  "language_info": {
   "codemirror_mode": {
    "name": "ipython",
    "version": 3
   },
   "file_extension": ".py",
   "mimetype": "text/x-python",
   "name": "python",
   "nbconvert_exporter": "python",
   "pygments_lexer": "ipython3",
   "version": "3.6.3"
  }
 },
 "nbformat": 4,
 "nbformat_minor": 2
}
